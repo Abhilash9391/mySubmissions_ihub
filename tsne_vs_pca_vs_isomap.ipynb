{
  "nbformat": 4,
  "nbformat_minor": 0,
  "metadata": {
    "colab": {
      "provenance": [],
      "authorship_tag": "ABX9TyNvPYCrOemvaCjdfkTNOP9r",
      "include_colab_link": true
    },
    "kernelspec": {
      "name": "python3",
      "display_name": "Python 3"
    },
    "language_info": {
      "name": "python"
    }
  },
  "cells": [
    {
      "cell_type": "markdown",
      "metadata": {
        "id": "view-in-github",
        "colab_type": "text"
      },
      "source": [
        "<a href=\"https://colab.research.google.com/github/Abhilash9391/mySubmissions_ihub/blob/main/tsne_vs_pca_vs_isomap.ipynb\" target=\"_parent\"><img src=\"https://colab.research.google.com/assets/colab-badge.svg\" alt=\"Open In Colab\"/></a>"
      ]
    },
    {
      "cell_type": "markdown",
      "source": [
        ".......t-sne vs pca vs isomap ..........\n",
        "\n",
        "\n",
        " t-sne                                         \n",
        "=>used for the purpose of visualisation of high dimensional data(unsupervised)\n",
        "\n",
        "=>maintains local relationship\n",
        "\n",
        "=>uses probabilitic approach (t-student distribution and kl divergence)\n",
        "\n",
        "=>effect of outliers is high\n",
        "\n",
        "=>Cannot be used for downstream tasks (only visualization)\n",
        "\n",
        "\n",
        "\n",
        "\n",
        " PCA\n",
        "\n",
        "=> used for the feature extraction and dimensionality reduction\n",
        "\n",
        "=>maintains global structure\n",
        "\n",
        "=>uses co-variance matrix(eigen vectors of co-variance matrix are new priciple components)\n",
        "\n",
        "=>effect of outliers is high\n",
        "\n",
        "=>Only captures linear relationships\n",
        "\n",
        "\n",
        "ISOMAP\n",
        "\n",
        "=>Non-linear dimensionality reduction\n",
        "\n",
        "=>maintains global structure\n",
        "\n",
        "=>uses geodesicdistance(eigen vectors of Gram matrix)\n",
        "\n",
        "=>efefct of outliers is high\n",
        "\n",
        "\n",
        "\n",
        "\n",
        "\n",
        "\n"
      ],
      "metadata": {
        "id": "2UABw17mGn2L"
      }
    }
  ]
}